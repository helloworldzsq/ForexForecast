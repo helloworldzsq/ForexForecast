{
 "cells": [
  {
   "cell_type": "code",
   "execution_count": 1,
   "metadata": {},
   "outputs": [],
   "source": [
    "import pandas as pd\n",
    "import numpy as np\n",
    "from common_variables import *\n"
   ]
  },
  {
   "cell_type": "code",
   "execution_count": 2,
   "metadata": {
    "tags": []
   },
   "outputs": [
    {
     "data": {
      "text/plain": "     Date_Time    High     Low\n0   2001-01-01  114.41  114.41\n2   2001-01-01  114.37  114.37\n4   2001-01-01  114.42  114.42\n6   2001-01-01  114.40  114.35\n8   2001-01-01  114.42  114.37\n..         ...     ...     ...\n190 2001-01-01  114.59  114.50\n192 2001-01-01  114.59  114.54\n194 2001-01-01  114.60  114.52\n196 2001-01-01  114.60  114.52\n198 2001-01-01  114.61  114.52\n\n[100 rows x 3 columns]",
      "text/html": "<div>\n<style scoped>\n    .dataframe tbody tr th:only-of-type {\n        vertical-align: middle;\n    }\n\n    .dataframe tbody tr th {\n        vertical-align: top;\n    }\n\n    .dataframe thead th {\n        text-align: right;\n    }\n</style>\n<table border=\"1\" class=\"dataframe\">\n  <thead>\n    <tr style=\"text-align: right;\">\n      <th></th>\n      <th>Date_Time</th>\n      <th>High</th>\n      <th>Low</th>\n    </tr>\n  </thead>\n  <tbody>\n    <tr>\n      <th>0</th>\n      <td>2001-01-01</td>\n      <td>114.41</td>\n      <td>114.41</td>\n    </tr>\n    <tr>\n      <th>2</th>\n      <td>2001-01-01</td>\n      <td>114.37</td>\n      <td>114.37</td>\n    </tr>\n    <tr>\n      <th>4</th>\n      <td>2001-01-01</td>\n      <td>114.42</td>\n      <td>114.42</td>\n    </tr>\n    <tr>\n      <th>6</th>\n      <td>2001-01-01</td>\n      <td>114.40</td>\n      <td>114.35</td>\n    </tr>\n    <tr>\n      <th>8</th>\n      <td>2001-01-01</td>\n      <td>114.42</td>\n      <td>114.37</td>\n    </tr>\n    <tr>\n      <th>...</th>\n      <td>...</td>\n      <td>...</td>\n      <td>...</td>\n    </tr>\n    <tr>\n      <th>190</th>\n      <td>2001-01-01</td>\n      <td>114.59</td>\n      <td>114.50</td>\n    </tr>\n    <tr>\n      <th>192</th>\n      <td>2001-01-01</td>\n      <td>114.59</td>\n      <td>114.54</td>\n    </tr>\n    <tr>\n      <th>194</th>\n      <td>2001-01-01</td>\n      <td>114.60</td>\n      <td>114.52</td>\n    </tr>\n    <tr>\n      <th>196</th>\n      <td>2001-01-01</td>\n      <td>114.60</td>\n      <td>114.52</td>\n    </tr>\n    <tr>\n      <th>198</th>\n      <td>2001-01-01</td>\n      <td>114.61</td>\n      <td>114.52</td>\n    </tr>\n  </tbody>\n</table>\n<p>100 rows × 3 columns</p>\n</div>"
     },
     "execution_count": 2,
     "metadata": {},
     "output_type": "execute_result"
    }
   ],
   "source": [
    "#参数含义：读取路径，读取指定列，index_col指定首列，将字符串转换成日期格式(数据合并后自动充当首列)\n",
    "df_csv = pd.read_csv(full_time_series_path, usecols=['Date','Time','High','Low'],parse_dates=[['Date','Time']])\n",
    "df_csv['Date_Time'] = pd.to_datetime(start_date)\n",
    "# 去除有空格的行\n",
    "df_csv.dropna(how='any', inplace=True)\n",
    "df = df_csv\n",
    "df.head(100)"
   ]
  },
  {
   "cell_type": "code",
   "execution_count": 3,
   "metadata": {},
   "outputs": [
    {
     "data": {
      "text/plain": "     Date_Time    HLAvg          MA   Returns\n0   2001-01-01  114.410         NaN       NaN\n2   2001-01-01  114.370         NaN       NaN\n4   2001-01-01  114.420         NaN       NaN\n6   2001-01-01  114.375         NaN       NaN\n8   2001-01-01  114.395         NaN       NaN\n..         ...      ...         ...       ...\n190 2001-01-01  114.545  114.486429  0.000084\n192 2001-01-01  114.565  114.492500  0.000053\n194 2001-01-01  114.560  114.499643  0.000062\n196 2001-01-01  114.560  114.507143  0.000066\n198 2001-01-01  114.565  114.515357  0.000072\n\n[100 rows x 4 columns]",
      "text/html": "<div>\n<style scoped>\n    .dataframe tbody tr th:only-of-type {\n        vertical-align: middle;\n    }\n\n    .dataframe tbody tr th {\n        vertical-align: top;\n    }\n\n    .dataframe thead th {\n        text-align: right;\n    }\n</style>\n<table border=\"1\" class=\"dataframe\">\n  <thead>\n    <tr style=\"text-align: right;\">\n      <th></th>\n      <th>Date_Time</th>\n      <th>HLAvg</th>\n      <th>MA</th>\n      <th>Returns</th>\n    </tr>\n  </thead>\n  <tbody>\n    <tr>\n      <th>0</th>\n      <td>2001-01-01</td>\n      <td>114.410</td>\n      <td>NaN</td>\n      <td>NaN</td>\n    </tr>\n    <tr>\n      <th>2</th>\n      <td>2001-01-01</td>\n      <td>114.370</td>\n      <td>NaN</td>\n      <td>NaN</td>\n    </tr>\n    <tr>\n      <th>4</th>\n      <td>2001-01-01</td>\n      <td>114.420</td>\n      <td>NaN</td>\n      <td>NaN</td>\n    </tr>\n    <tr>\n      <th>6</th>\n      <td>2001-01-01</td>\n      <td>114.375</td>\n      <td>NaN</td>\n      <td>NaN</td>\n    </tr>\n    <tr>\n      <th>8</th>\n      <td>2001-01-01</td>\n      <td>114.395</td>\n      <td>NaN</td>\n      <td>NaN</td>\n    </tr>\n    <tr>\n      <th>...</th>\n      <td>...</td>\n      <td>...</td>\n      <td>...</td>\n      <td>...</td>\n    </tr>\n    <tr>\n      <th>190</th>\n      <td>2001-01-01</td>\n      <td>114.545</td>\n      <td>114.486429</td>\n      <td>0.000084</td>\n    </tr>\n    <tr>\n      <th>192</th>\n      <td>2001-01-01</td>\n      <td>114.565</td>\n      <td>114.492500</td>\n      <td>0.000053</td>\n    </tr>\n    <tr>\n      <th>194</th>\n      <td>2001-01-01</td>\n      <td>114.560</td>\n      <td>114.499643</td>\n      <td>0.000062</td>\n    </tr>\n    <tr>\n      <th>196</th>\n      <td>2001-01-01</td>\n      <td>114.560</td>\n      <td>114.507143</td>\n      <td>0.000066</td>\n    </tr>\n    <tr>\n      <th>198</th>\n      <td>2001-01-01</td>\n      <td>114.565</td>\n      <td>114.515357</td>\n      <td>0.000072</td>\n    </tr>\n  </tbody>\n</table>\n<p>100 rows × 4 columns</p>\n</div>"
     },
     "execution_count": 3,
     "metadata": {},
     "output_type": "execute_result"
    }
   ],
   "source": [
    "# HLAvg 最高价和最低价之间的平均值\n",
    "df[\"HLAvg\"] = df['High'].add(df['Low']).div(2)\n",
    "del df['High']\n",
    "del df['Low']\n",
    "# Simple Moving Average\n",
    "# 移动平均线周期\n",
    "# rolling 向后回滚\n",
    "# ma_periods表示计算统计量的观测值的数量即向前几个数据\n",
    "df['MA'] = df['HLAvg'].rolling(window=ma_periods).mean()\n",
    "# Log Returns\n",
    "# log取对数，df['MA'].shift(1) 数据向下移动一行，索引不变\n",
    "# 产看汇率趋势\n",
    "df['Returns'] = np.log(df['MA']/df['MA'].shift(1))\n",
    "df.head(100)"
   ]
  },
  {
   "cell_type": "code",
   "execution_count": 4,
   "metadata": {},
   "outputs": [
    {
     "data": {
      "text/plain": "         Date_Time    HLAvg          MA   Returns\n64      2001-01-01  114.460  114.508929 -0.000062\n66      2001-01-01  114.495  114.505714 -0.000028\n68      2001-01-01  114.435  114.494643 -0.000097\n70      2001-01-01  114.430  114.482500 -0.000106\n72      2001-01-01  114.395  114.478571 -0.000034\n...            ...      ...         ...       ...\n1048566 2001-01-01  124.780  124.765714  0.000003\n1048568 2001-01-01  124.770  124.764643 -0.000009\n1048570 2001-01-01  124.770  124.763929 -0.000006\n1048572 2001-01-01  124.755  124.762857 -0.000009\n1048574 2001-01-01  124.750  124.761786 -0.000009\n\n[524256 rows x 4 columns]",
      "text/html": "<div>\n<style scoped>\n    .dataframe tbody tr th:only-of-type {\n        vertical-align: middle;\n    }\n\n    .dataframe tbody tr th {\n        vertical-align: top;\n    }\n\n    .dataframe thead th {\n        text-align: right;\n    }\n</style>\n<table border=\"1\" class=\"dataframe\">\n  <thead>\n    <tr style=\"text-align: right;\">\n      <th></th>\n      <th>Date_Time</th>\n      <th>HLAvg</th>\n      <th>MA</th>\n      <th>Returns</th>\n    </tr>\n  </thead>\n  <tbody>\n    <tr>\n      <th>64</th>\n      <td>2001-01-01</td>\n      <td>114.460</td>\n      <td>114.508929</td>\n      <td>-0.000062</td>\n    </tr>\n    <tr>\n      <th>66</th>\n      <td>2001-01-01</td>\n      <td>114.495</td>\n      <td>114.505714</td>\n      <td>-0.000028</td>\n    </tr>\n    <tr>\n      <th>68</th>\n      <td>2001-01-01</td>\n      <td>114.435</td>\n      <td>114.494643</td>\n      <td>-0.000097</td>\n    </tr>\n    <tr>\n      <th>70</th>\n      <td>2001-01-01</td>\n      <td>114.430</td>\n      <td>114.482500</td>\n      <td>-0.000106</td>\n    </tr>\n    <tr>\n      <th>72</th>\n      <td>2001-01-01</td>\n      <td>114.395</td>\n      <td>114.478571</td>\n      <td>-0.000034</td>\n    </tr>\n    <tr>\n      <th>...</th>\n      <td>...</td>\n      <td>...</td>\n      <td>...</td>\n      <td>...</td>\n    </tr>\n    <tr>\n      <th>1048566</th>\n      <td>2001-01-01</td>\n      <td>124.780</td>\n      <td>124.765714</td>\n      <td>0.000003</td>\n    </tr>\n    <tr>\n      <th>1048568</th>\n      <td>2001-01-01</td>\n      <td>124.770</td>\n      <td>124.764643</td>\n      <td>-0.000009</td>\n    </tr>\n    <tr>\n      <th>1048570</th>\n      <td>2001-01-01</td>\n      <td>124.770</td>\n      <td>124.763929</td>\n      <td>-0.000006</td>\n    </tr>\n    <tr>\n      <th>1048572</th>\n      <td>2001-01-01</td>\n      <td>124.755</td>\n      <td>124.762857</td>\n      <td>-0.000009</td>\n    </tr>\n    <tr>\n      <th>1048574</th>\n      <td>2001-01-01</td>\n      <td>124.750</td>\n      <td>124.761786</td>\n      <td>-0.000009</td>\n    </tr>\n  </tbody>\n</table>\n<p>524256 rows × 4 columns</p>\n</div>"
     },
     "execution_count": 4,
     "metadata": {},
     "output_type": "execute_result"
    }
   ],
   "source": [
    "#dropna 删除缺失值所造的行，how='any'表示只要这行的某一列缺失，就删除\n",
    "df.dropna(how='any', inplace=True)\n",
    "# df[0:2] 选取前三列 ，这里余数为0，所以没有变化\n",
    "df = df[df.shape[0] % batch_size:]\n",
    "df"
   ]
  },
  {
   "cell_type": "code",
   "execution_count": 5,
   "metadata": {
    "tags": []
   },
   "outputs": [
    {
     "name": "stdout",
     "output_type": "stream",
     "text": [
      "df_train.shape (513888, 4), df_validation.shape (5440, 4), df_test.shape (5440, 4)\n"
     ]
    }
   ],
   "source": [
    "#划分训练集\n",
    "df_train = df[:- validation_size - test_size]\n",
    "#划分验证集\n",
    "df_validation = df[- validation_size - test_size - window_size:- test_size]\n",
    "#测试集\n",
    "df_test = df[- test_size - window_size:]\n",
    "print(f'df_train.shape {df_train.shape}, df_validation.shape {df_validation.shape}, df_test.shape {df_test.shape}')"
   ]
  },
  {
   "cell_type": "code",
   "execution_count": 6,
   "metadata": {},
   "outputs": [],
   "source": [
    "#生成csv文件\n",
    "df_train.to_csv(train_time_series_path)\n",
    "df_validation.to_csv(validate_time_series_path)\n",
    "df_test.to_csv(test_time_series_path)"
   ]
  }
 ],
 "metadata": {
  "kernelspec": {
   "display_name": "Python 3",
   "language": "python",
   "name": "python3"
  },
  "language_info": {
   "codemirror_mode": {
    "name": "ipython",
    "version": 3
   },
   "file_extension": ".py",
   "mimetype": "text/x-python",
   "name": "python",
   "nbconvert_exporter": "python",
   "pygments_lexer": "ipython3",
   "version": "3.8.10"
  }
 },
 "nbformat": 4,
 "nbformat_minor": 2
}